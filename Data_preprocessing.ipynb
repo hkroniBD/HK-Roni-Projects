{
 "cells": [
  {
   "cell_type": "markdown",
   "id": "1f39e92d-5efb-4c23-8399-d76fe11cf716",
   "metadata": {},
   "source": [
    "### Step 1: Importing Packages"
   ]
  },
  {
   "cell_type": "code",
   "execution_count": 7,
   "id": "268a3213-94f1-48f6-83f5-6881227ad40c",
   "metadata": {},
   "outputs": [],
   "source": [
    "import pandas as pd\n",
    "import numpy as np\n",
    "from sklearn.preprocessing import MinMaxScaler, LabelEncoder"
   ]
  },
  {
   "cell_type": "markdown",
   "id": "a87a1ab0-0273-4dea-ab96-57745d6e0140",
   "metadata": {},
   "source": [
    "### Step 2: Data preparation"
   ]
  },
  {
   "cell_type": "code",
   "execution_count": 21,
   "id": "6c5e13cc-24b8-4fb2-81d8-5c8f50a06c52",
   "metadata": {},
   "outputs": [
    {
     "name": "stdout",
     "output_type": "stream",
     "text": [
      "   Height  Weight  Gender\n",
      "0   160.0    55.0    Male\n",
      "1   170.0    65.0  Female\n",
      "2     NaN    70.0  Female\n",
      "3   180.0     NaN    Male\n"
     ]
    }
   ],
   "source": [
    "data ={\n",
    "    'Height': [160,  170,  np.nan, 180], \n",
    "    'Weight': [55,   65,   70,     np.nan],\n",
    "    'Gender': ['Male', 'Female', 'Female', 'Male']\n",
    "}\n",
    "df= pd.DataFrame(data)\n",
    "print(df)"
   ]
  },
  {
   "cell_type": "markdown",
   "id": "fee1336a-42d1-4429-ba17-b7869b2882df",
   "metadata": {},
   "source": [
    "### Step 3: Handing Missing Values"
   ]
  },
  {
   "cell_type": "code",
   "execution_count": 41,
   "id": "96d73a2e-f9f6-42b9-a500-80766703872f",
   "metadata": {},
   "outputs": [
    {
     "name": "stdout",
     "output_type": "stream",
     "text": [
      "   Height     Weight  Gender\n",
      "0   160.0  55.000000    Male\n",
      "1   170.0  65.000000  Female\n",
      "2   170.0  70.000000  Female\n",
      "3   180.0  63.333333    Male\n"
     ]
    },
    {
     "name": "stderr",
     "output_type": "stream",
     "text": [
      "C:\\Users\\ASUS\\AppData\\Local\\Temp\\ipykernel_12464\\227564805.py:2: FutureWarning: A value is trying to be set on a copy of a DataFrame or Series through chained assignment using an inplace method.\n",
      "The behavior will change in pandas 3.0. This inplace method will never work because the intermediate object on which we are setting values always behaves as a copy.\n",
      "\n",
      "For example, when doing 'df[col].method(value, inplace=True)', try using 'df.method({col: value}, inplace=True)' or df[col] = df[col].method(value) instead, to perform the operation inplace on the original object.\n",
      "\n",
      "\n",
      "  df['Weight'].fillna(df['Weight'].mean(),inplace=True)\n"
     ]
    }
   ],
   "source": [
    "df['Height'].fillna(df['Height'].mean(),inplace=True)\n",
    "df['Weight'].fillna(df['Weight'].mean(),inplace=True)\n",
    "\n",
    "print(df)"
   ]
  },
  {
   "cell_type": "markdown",
   "id": "39cef1ee-1736-4db7-9100-57f566912398",
   "metadata": {},
   "source": [
    "### Step 4: Encoding"
   ]
  },
  {
   "cell_type": "code",
   "execution_count": 48,
   "id": "3c23d62c-3d3c-44ee-b466-14bba0e5ec3d",
   "metadata": {},
   "outputs": [
    {
     "name": "stdout",
     "output_type": "stream",
     "text": [
      "0    1\n",
      "1    0\n",
      "2    0\n",
      "3    1\n",
      "Name: Gender, dtype: int32\n"
     ]
    }
   ],
   "source": [
    "le = LabelEncoder()\n",
    "df['Gender'] = le.fit_transform(df['Gender'])\n",
    "print(df['Gender'])"
   ]
  },
  {
   "cell_type": "markdown",
   "id": "aa1ec40a-980f-4903-bbe2-1e2a9351b5a6",
   "metadata": {},
   "source": [
    "### Step 5: Scaling"
   ]
  },
  {
   "cell_type": "code",
   "execution_count": 55,
   "id": "9a310522-c54b-4454-ae44-b54838176647",
   "metadata": {},
   "outputs": [
    {
     "name": "stdout",
     "output_type": "stream",
     "text": [
      "   Height    Weight  Gender\n",
      "0     0.0  0.000000     1.0\n",
      "1     0.5  0.666667     0.0\n",
      "2     0.5  1.000000     0.0\n",
      "3     1.0  0.555556     1.0\n"
     ]
    }
   ],
   "source": [
    "scaler = MinMaxScaler()\n",
    "scaled = scaler.fit_transform(df)\n",
    "scaled_df = pd.DataFrame(scaled, columns=['Height','Weight','Gender'])\n",
    "print(scaled_df)"
   ]
  },
  {
   "cell_type": "markdown",
   "id": "763c3767-1ec2-4300-97ce-4d9ac987ef98",
   "metadata": {},
   "source": [
    "## Example 2"
   ]
  },
  {
   "cell_type": "code",
   "execution_count": 58,
   "id": "0470b9ba-9801-462a-9385-4ea599034f5c",
   "metadata": {},
   "outputs": [
    {
     "name": "stdout",
     "output_type": "stream",
     "text": [
      "Actual: [60]\n",
      "Predicted: [68.75]\n",
      "MAE: 8.75\n",
      "MSE: 76.5625\n",
      "R² Score: nan\n"
     ]
    },
    {
     "name": "stderr",
     "output_type": "stream",
     "text": [
      "C:\\Users\\ASUS\\anaconda3\\Lib\\site-packages\\sklearn\\metrics\\_regression.py:1211: UndefinedMetricWarning: R^2 score is not well-defined with less than two samples.\n",
      "  warnings.warn(msg, UndefinedMetricWarning)\n"
     ]
    }
   ],
   "source": [
    "import pandas as pd\n",
    "from sklearn.model_selection import train_test_split\n",
    "from sklearn.linear_model import LinearRegression\n",
    "from sklearn.metrics import mean_absolute_error, mean_squared_error, r2_score\n",
    "\n",
    "# Step 1: Create dataset\n",
    "data = {'Hours_Studied': [2, 4, 6, 8, 10],\n",
    "        'Final_Score': [50, 55, 60, 80, 90]}\n",
    "df = pd.DataFrame(data)\n",
    "\n",
    "# Step 2: Split data\n",
    "X = df[['Hours_Studied']]\n",
    "y = df['Final_Score']\n",
    "X_train, X_test, y_train, y_test = train_test_split(X, y, test_size=0.2, random_state=0)\n",
    "\n",
    "# Step 3: Train model\n",
    "model = LinearRegression()\n",
    "model.fit(X_train, y_train)\n",
    "\n",
    "# Step 4: Predict\n",
    "y_pred = model.predict(X_test)\n",
    "\n",
    "# Step 5: Evaluate\n",
    "\n",
    "print(\"Actual:\", y_test.values)\n",
    "print(\"Predicted:\", y_pred)\n",
    "\n",
    "print(\"MAE:\", mean_absolute_error(y_test, y_pred))\n",
    "print(\"MSE:\", mean_squared_error(y_test, y_pred))\n",
    "print(\"R² Score:\", r2_score(y_test, y_pred))"
   ]
  },
  {
   "cell_type": "code",
   "execution_count": null,
   "id": "387f3ce0-888b-450a-a96c-0335cf9f8fb1",
   "metadata": {},
   "outputs": [],
   "source": []
  }
 ],
 "metadata": {
  "kernelspec": {
   "display_name": "Python [conda env:base] *",
   "language": "python",
   "name": "conda-base-py"
  },
  "language_info": {
   "codemirror_mode": {
    "name": "ipython",
    "version": 3
   },
   "file_extension": ".py",
   "mimetype": "text/x-python",
   "name": "python",
   "nbconvert_exporter": "python",
   "pygments_lexer": "ipython3",
   "version": "3.12.7"
  }
 },
 "nbformat": 4,
 "nbformat_minor": 5
}
